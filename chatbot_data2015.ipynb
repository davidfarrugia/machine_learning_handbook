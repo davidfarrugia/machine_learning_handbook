{
  "nbformat": 4,
  "nbformat_minor": 0,
  "metadata": {
    "colab": {
      "name": "chatbot_data2015.ipynb",
      "version": "0.3.2",
      "provenance": [],
      "include_colab_link": true
    },
    "kernelspec": {
      "name": "python3",
      "display_name": "Python 3"
    },
    "accelerator": "TPU"
  },
  "cells": [
    {
      "cell_type": "markdown",
      "metadata": {
        "id": "view-in-github",
        "colab_type": "text"
      },
      "source": [
        "<a href=\"https://colab.research.google.com/github/davidfarrugia/machine_learning_handbook/blob/master/chatbot_data2015.ipynb\" target=\"_parent\"><img src=\"https://colab.research.google.com/assets/colab-badge.svg\" alt=\"Open In Colab\"/></a>"
      ]
    },
    {
      "metadata": {
        "id": "Hvn4PULgYuYQ",
        "colab_type": "code",
        "colab": {}
      },
      "cell_type": "code",
      "source": [
        "import json\n",
        "import sqlite3\n",
        "from datetime import datetime"
      ],
      "execution_count": 0,
      "outputs": []
    },
    {
      "metadata": {
        "id": "62RQlTTuaJCs",
        "colab_type": "code",
        "colab": {}
      },
      "cell_type": "code",
      "source": [
        "timeframe = '2015-05'\n",
        "sql_transaction = []"
      ],
      "execution_count": 0,
      "outputs": []
    },
    {
      "metadata": {
        "id": "gNTutWr7aOlq",
        "colab_type": "code",
        "colab": {}
      },
      "cell_type": "code",
      "source": [
        "connection = sqlite3.connect('{}.db'.format(timeframe))"
      ],
      "execution_count": 0,
      "outputs": []
    },
    {
      "metadata": {
        "id": "44vXD15naaf1",
        "colab_type": "code",
        "colab": {}
      },
      "cell_type": "code",
      "source": [
        "c = connection.cursor()"
      ],
      "execution_count": 0,
      "outputs": []
    },
    {
      "metadata": {
        "id": "L9u228tSactB",
        "colab_type": "code",
        "colab": {}
      },
      "cell_type": "code",
      "source": [
        "def create_table():\n",
        "    c.execute(\"CREATE TABLE IF NOT EXISTS parent_reply\"\n",
        "              \"(parent_id TEXT PRIMARY KEY,comment_id TEXT UNIQUE, parent TEXT,\" \n",
        "              \"comment TEXT, subreddit TEXT, unix INT, score INT)\")"
      ],
      "execution_count": 0,
      "outputs": []
    },
    {
      "metadata": {
        "id": "jZY0CiqJcR68",
        "colab_type": "code",
        "colab": {}
      },
      "cell_type": "code",
      "source": [
        "def format_date(data):\n",
        "  data = data.replace(\"\\n\", \" newlinechar \").replace(\"\\r\", \" newlinechar \").replace('\"', \"'\")\n",
        "  return data"
      ],
      "execution_count": 0,
      "outputs": []
    },
    {
      "metadata": {
        "id": "Y3jame7fc7xq",
        "colab_type": "code",
        "colab": {}
      },
      "cell_type": "code",
      "source": [
        "def find_parent(pid):\n",
        "  try:\n",
        "    sql = \"SELECT comment FROM parent_reply WHERE comment_id = '{}' LIMIT 1\".format(pid)\n",
        "    c.execute(sql)\n",
        "    result = c.fetchone()\n",
        "    if result != None:\n",
        "      return result[0]\n",
        "    else:\n",
        "      return False\n",
        "  except Exception as e:\n",
        "    return False"
      ],
      "execution_count": 0,
      "outputs": []
    },
    {
      "metadata": {
        "id": "WBe6R0spamfd",
        "colab_type": "code",
        "colab": {}
      },
      "cell_type": "code",
      "source": [
        "if __name__ == '__main__':\n",
        "  create_table()\n",
        "  row_counter = 0\n",
        "  paired_rows = 0\n",
        "  \n",
        "  with open('J:/chatdata/reddit_data/{}/RC_{}'.format(timeframe.split('-')[0],timeframe), buffering=1000) as f:\n",
        "    for row in f:\n",
        "      row_counter += 1\n",
        "      row = json.loads(row)\n",
        "      parent_id = row['parent_id']\n",
        "      body = format_data(row['body'])\n",
        "      created_utc = row['created_utc']\n",
        "      score = row['score']\n",
        "      comment_id = row['name']\n",
        "      subreddit = row['subreddit']\n",
        "      parent_data = find_parent(parent_id)\n",
        "          "
      ],
      "execution_count": 0,
      "outputs": []
    },
    {
      "metadata": {
        "id": "5tw2hbU4bBSn",
        "colab_type": "code",
        "colab": {}
      },
      "cell_type": "code",
      "source": [
        ""
      ],
      "execution_count": 0,
      "outputs": []
    }
  ]
}